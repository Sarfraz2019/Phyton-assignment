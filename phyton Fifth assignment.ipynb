{
 "cells": [
  {
   "cell_type": "code",
   "execution_count": 21,
   "metadata": {},
   "outputs": [
    {
     "name": "stdout",
     "output_type": "stream",
     "text": [
      "Enter a number to calculate the factorial :4\n",
      "24\n"
     ]
    }
   ],
   "source": [
    "#Question 1 \n",
    "\n",
    "\n",
    "\n",
    "def factorial(number):\n",
    "    if number ==0:\n",
    "        return 1\n",
    "    else:\n",
    "        return number *factorial(number-1)\n",
    "    \n",
    "num = int(input(\"Enter a number to calculate the factorial :\"))\n",
    "print(factorial(num))\n"
   ]
  },
  {
   "cell_type": "code",
   "execution_count": 22,
   "metadata": {},
   "outputs": [
    {
     "name": "stdout",
     "output_type": "stream",
     "text": [
      "Enter factorial number : 0\n",
      "Factorial result:  1\n"
     ]
    }
   ],
   "source": [
    "#Question ; 1 by second method\n",
    "def factorial_cal(fact):\n",
    "    result=1\n",
    "    while fact !=0:\n",
    "        result *=fact\n",
    "        fact = fact-1\n",
    "    \n",
    "    print(\"Factorial result: \",result)\n",
    "\n",
    "facto = int(input(\"Enter factorial number : \"))\n",
    "factorial_cal(facto)\n",
    "    \n",
    "    "
   ]
  },
  {
   "cell_type": "code",
   "execution_count": 15,
   "metadata": {},
   "outputs": [
    {
     "name": "stdout",
     "output_type": "stream",
     "text": [
      "Enter any string ::sarfraz\n",
      "Your Entered string : :sarfraz\n",
      "Uppercase letter : 0\n",
      "Lowercase letter : 7\n"
     ]
    }
   ],
   "source": [
    "#Question 2\n",
    "\n",
    "def cal_str(string):\n",
    "    up_count = 0\n",
    "    low_count = 0\n",
    "    \n",
    "    for a in string:\n",
    "        if a.isupper():\n",
    "            up_count +=1\n",
    "        elif a.islower():\n",
    "            low_count +=1\n",
    "        else:\n",
    "            pass\n",
    "    print(\"Your Entered string :\",string)\n",
    "    print(\"Uppercase letter :\", up_count)\n",
    "    print(\"Lowercase letter :\", low_count)\n",
    "        \n",
    "input_string = input(\"Enter any string :\")\n",
    "cal_str(input_string)\n"
   ]
  },
  {
   "cell_type": "code",
   "execution_count": 42,
   "metadata": {},
   "outputs": [
    {
     "name": "stdout",
     "output_type": "stream",
     "text": [
      "2\n",
      "4\n",
      "8\n",
      "6\n",
      "8\n"
     ]
    }
   ],
   "source": [
    "#Question 3\n",
    "listo = [1,2,4,5,7,8,9,6,8]\n",
    "\n",
    "def even_cal(cal):\n",
    "    a = len(cal)\n",
    "    b=0\n",
    "    while b!=a:\n",
    "        if cal[b] % 2 == 0 :\n",
    "            print(cal[b])\n",
    "        b = b + 1\n",
    "    \n",
    "    \n",
    "even_cal(listo)"
   ]
  },
  {
   "cell_type": "code",
   "execution_count": 10,
   "metadata": {},
   "outputs": [
    {
     "name": "stdout",
     "output_type": "stream",
     "text": [
      "Enter any sentence to check palindrome :madam\n",
      "you Entered Palindrome : madam\n"
     ]
    }
   ],
   "source": [
    "#Question :4\n",
    "\n",
    "getinput =input(\"Enter any sentence to check palindrome :\")\n",
    "\n",
    "def check(get):\n",
    "    palindrome = (get[::-1])\n",
    "    if get == palindrome:\n",
    "        print(\"you Entered Palindrome :\",palindrome)\n",
    "    else:\n",
    "        print(\"Your Input is not palindrome\")\n",
    "check(getinput)"
   ]
  },
  {
   "cell_type": "code",
   "execution_count": 5,
   "metadata": {},
   "outputs": [
    {
     "name": "stdout",
     "output_type": "stream",
     "text": [
      "Enter Any num :1\n",
      "1 is a prime no\n"
     ]
    }
   ],
   "source": [
    "#Question :5\n",
    "getinput = int(input(\"Enter Any num :\"))\n",
    "def primefunc(primeno):\n",
    "    prime=0\n",
    "    i=2\n",
    "    while i<primeno:\n",
    "        if primeno % i ==0:\n",
    "            prime = prime +1\n",
    "        i = i+1\n",
    "    if prime>0:\n",
    "        print(str(primeno) + \" \" + \"is not a prime no\")\n",
    "    else:\n",
    "        print(str(primeno) +\" \"+ \"is a prime no\")\n",
    "        \n",
    "\n",
    "primefunc(getinput)"
   ]
  },
  {
   "cell_type": "code",
   "execution_count": 23,
   "metadata": {},
   "outputs": [
    {
     "name": "stdout",
     "output_type": "stream",
     "text": [
      "You selected mango\n",
      "You selected banana\n",
      "You selected Apple\n"
     ]
    }
   ],
   "source": [
    "#Question :6\n",
    "\n",
    "def shopping_list(*items):\n",
    "    for item in items:\n",
    "        print(\"You selected\",item)\n",
    "\n",
    "shopping_list('mango','banana','Apple')\n",
    "    "
   ]
  },
  {
   "cell_type": "code",
   "execution_count": 26,
   "metadata": {},
   "outputs": [
    {
     "name": "stdout",
     "output_type": "stream",
     "text": [
      "[2, 4, 8]\n"
     ]
    }
   ],
   "source": [
    "#Question 3 by second method\n",
    "\n",
    "def even_num(num):\n",
    "    even =[]\n",
    "    for n in num:\n",
    "        if n % 2 ==0:\n",
    "            even.append(n)\n",
    "    return even\n",
    "\n",
    "list1=[1,5,2,4,8,9]\n",
    "print(even_num(list1))\n"
   ]
  },
  {
   "cell_type": "code",
   "execution_count": null,
   "metadata": {},
   "outputs": [],
   "source": []
  }
 ],
 "metadata": {
  "kernelspec": {
   "display_name": "Python 3",
   "language": "python",
   "name": "python3"
  },
  "language_info": {
   "codemirror_mode": {
    "name": "ipython",
    "version": 3
   },
   "file_extension": ".py",
   "mimetype": "text/x-python",
   "name": "python",
   "nbconvert_exporter": "python",
   "pygments_lexer": "ipython3",
   "version": "3.7.4"
  }
 },
 "nbformat": 4,
 "nbformat_minor": 2
}
