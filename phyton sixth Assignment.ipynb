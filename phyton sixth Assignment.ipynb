{
 "cells": [
  {
   "cell_type": "code",
   "execution_count": 6,
   "metadata": {},
   "outputs": [
    {
     "name": "stdout",
     "output_type": "stream",
     "text": [
      "Question #1 Define Object oreanted programming language ?\n",
      " Answer: OOP is a paradigm in which real-world\n",
      "are each viewed as separate entities having their own state which is\n",
      "modified only by built in procedures,called methods.\n"
     ]
    }
   ],
   "source": [
    "q1 =\"Question #1 Define Object oreanted programming language ?\\n\"\n",
    "ans1 =\"Answer: OOP is a paradigm in which real-world\\nare each viewed as separate entities having their own state which is\\nmodified only by built in procedures,called methods.\"\n",
    "\n",
    "print(q1,ans1)"
   ]
  },
  {
   "cell_type": "code",
   "execution_count": 8,
   "metadata": {},
   "outputs": [
    {
     "name": "stdout",
     "output_type": "stream",
     "text": [
      "Question #2 List down the Benefits of OOP ?\n",
      " Answer: Benefits of OOP can be defineby following Points.\n",
      "* The programming gets easy and efficient.\n",
      "* The class is sharable,so codes can be refused.\n",
      "* The productivity of programmers increases.\n",
      "* Data is safe and secure with data abstraction.\n"
     ]
    }
   ],
   "source": [
    "q1 =\"Question #2 List down the Benefits of OOP ?\\n\"\n",
    "ans1 = \"Answer: Benefits of OOP can be defineby following Points.\\n* The programming gets easy and efficient.\\n* The class is sharable,so codes can be refused.\\n* The productivity of programmers increases.\\n* Data is safe and secure with data abstraction.\"\n",
    "\n",
    "print(q1,ans1)"
   ]
  },
  {
   "cell_type": "code",
   "execution_count": 9,
   "metadata": {},
   "outputs": [
    {
     "name": "stdout",
     "output_type": "stream",
     "text": [
      "Question #3 Differentiate between function and method ?\n",
      " Answer: A function is a piece of code that is called by name. It can be passed data to operate on (i.e. the parameters) and can optionally return data (the return value). All data that is passed to a function is explicitly passed. A method is a piece of code that is called by a name that is associated with an object.\n"
     ]
    }
   ],
   "source": [
    "q1 =\"Question #3 Differentiate between function and method ?\\n\"\n",
    "ans1 = \"Answer: A function is a piece of code that is called by name. It can be passed data to operate on (i.e. the parameters) and can optionally return data (the return value). All data that is passed to a function is explicitly passed. A method is a piece of code that is called by a name that is associated with an object.\"\n",
    "\n",
    "print(q1,ans1)"
   ]
  },
  {
   "cell_type": "code",
   "execution_count": 36,
   "metadata": {},
   "outputs": [
    {
     "name": "stdout",
     "output_type": "stream",
     "text": [
      "Question #4 Define the following terms:\n",
      "1. Class\n",
      "2. Object\n",
      "3. Attribute\n",
      "4. Behavior ?\n",
      " Answer: The above terms are following.\n",
      "1. Class:\n",
      " \t It is a template or blue print about the capability of what an object can do.\n",
      "\n",
      "2. object:\n",
      " \t An object(Instance) is an instantiation of a class. when class is defined, only the description for the object is defined.therefore,no memory or storage is allocated.\n",
      "\n",
      "3. Attribute:\n",
      " \t In Object-oriented programming(OOP), classes and objects have attributes. Attributes are data stored inside a class or instance and represent the state or quality of the class or instance. In short, attributes store information about the instance.\n",
      "\n",
      "4. Behavior:\n",
      " \t A class's behavior determines how an instance of that class operates; for example, how it will react if asked to do something by another class or object or if its internal state changes. Behavior is the only way objects can do anything to themselves or have anything done to them.\n"
     ]
    }
   ],
   "source": [
    "\n",
    "q1 =\"Question #4 Define the following terms:\\n1. Class\\n2. Object\\n3. Attribute\\n4. Behavior ?\\n\"\n",
    "ans1 = \"Answer: The above terms are following.\\n1. Class:\\n \\t It is a template or blue print about the capability of what an object can do.\\n\\n2. object:\\n \\t An object(Instance) is an instantiation of a class. when class is defined, only the description for the object is defined.therefore,no memory or storage is allocated.\\n\\n3. Attribute:\\n \\t In Object-oriented programming(OOP), classes and objects have attributes. Attributes are data stored inside a class or instance and represent the state or quality of the class or instance. In short, attributes store information about the instance.\\n\\n4. Behavior:\\n \\t A class's behavior determines how an instance of that class operates; for example, how it will react if asked to do something by another class or object or if its internal state changes. Behavior is the only way objects can do anything to themselves or have anything done to them.\"\n",
    "\n",
    "print(q1,ans1)"
   ]
  },
  {
   "cell_type": "code",
   "execution_count": 15,
   "metadata": {},
   "outputs": [
    {
     "name": "stdout",
     "output_type": "stream",
     "text": [
      "Vigo \n",
      " 1997 \n",
      " Black \n",
      " manual as well as \n",
      " Auto\n",
      "\t\t================\n",
      "vigo135 gig \n",
      " 2000 \n",
      " Black \n",
      " manual as well as \n",
      " Auto\n",
      "\t\t================\n",
      "Vigo \n",
      " 1997 \n",
      " Black \n",
      " No auto facility \n",
      " But Manual\n",
      "\t\t================\n",
      "Vigo \n",
      " 1997 \n",
      " Red \n",
      " Auto \n",
      " manual as well as\n",
      "\t\t================\n",
      "Honda city \n",
      " 2015 \n",
      " Dark Blue \n",
      " Auto facilities \n",
      " As well as Manual\n"
     ]
    }
   ],
   "source": [
    "#Question 5\n",
    "#Object Oreanted programming\n",
    "#class with method\n",
    "class car():\n",
    "    #instantiation method\n",
    "    def __init__(self,model,color,name,auto,manual):\n",
    "        #Attributes and attributes names\n",
    "        self.model = model\n",
    "        self.color = color\n",
    "        self.name = name\n",
    "        self.auto = auto\n",
    "        self.manual = manual\n",
    "        # self is a prefix \n",
    "        \n",
    "    def modelname(self,newmodel,newname):\n",
    "        self.model = newmodel\n",
    "        self.name = newname\n",
    "        \n",
    "    def automanual(self,newauto,newmanual):\n",
    "        self.auto = newauto\n",
    "        self.manual = newmanual\n",
    "        \n",
    "    def carcolor(self,newcolor):\n",
    "        self.color = newcolor\n",
    "        \n",
    "        \n",
    "#object instance\n",
    "car1 = car(1997,'Black','Vigo','Auto','manual as well as')\n",
    "print(car1.name,'\\n',car1.model,'\\n',car1.color,'\\n',car1.manual,'\\n',car1.auto)\n",
    "\n",
    "car2 = car(1997,'Black','Vigo','Auto','manual as well as')\n",
    "car2.modelname(2000,'vigo135 gig')\n",
    "print(\"\\t\\t================\")\n",
    "print(car2.name,'\\n',car2.model,'\\n',car2.color,'\\n',car2.manual,'\\n',car2.auto)\n",
    "\n",
    "\n",
    "car3 = car(1997,'Black','Vigo','Auto','manual as well as')\n",
    "car3.automanual('No auto facility','But Manual')\n",
    "print(\"\\t\\t================\")\n",
    "print(car3.name,'\\n',car3.model,'\\n',car3.color,'\\n',car3.auto,'\\n',car3.manual)\n",
    "\n",
    "car4 = car(1997,'Black','Vigo','Auto','manual as well as')\n",
    "car4.carcolor('Red')\n",
    "print(\"\\t\\t================\")\n",
    "print(car4.name,'\\n',car4.model,'\\n',car4.color,'\\n',car4.auto,'\\n',car4.manual)\n",
    "\n",
    "car5 = car(1997,'Black','Vigo','Auto','manual as well as')\n",
    "car5.modelname(2015,'Honda city')\n",
    "car5.automanual('Auto facilities','As well as Manual')\n",
    "car5.carcolor('Dark Blue')\n",
    "print(\"\\t\\t================\")\n",
    "print(car5.name,'\\n',car5.model,'\\n',car5.color,'\\n',car5.auto,'\\n',car5.manual)\n"
   ]
  },
  {
   "cell_type": "code",
   "execution_count": null,
   "metadata": {},
   "outputs": [],
   "source": []
  }
 ],
 "metadata": {
  "kernelspec": {
   "display_name": "Python 3",
   "language": "python",
   "name": "python3"
  },
  "language_info": {
   "codemirror_mode": {
    "name": "ipython",
    "version": 3
   },
   "file_extension": ".py",
   "mimetype": "text/x-python",
   "name": "python",
   "nbconvert_exporter": "python",
   "pygments_lexer": "ipython3",
   "version": "3.7.4"
  }
 },
 "nbformat": 4,
 "nbformat_minor": 2
}
