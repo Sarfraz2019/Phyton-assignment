{
 "cells": [
  {
   "cell_type": "code",
   "execution_count": 7,
   "metadata": {},
   "outputs": [
    {
     "name": "stdout",
     "output_type": "stream",
     "text": [
      "['Sarfraz']\n"
     ]
    }
   ],
   "source": [
    "todolist= []\n",
    "todolist.append(\"Sarfraz\")\n",
    "print(todolist)"
   ]
  },
  {
   "cell_type": "code",
   "execution_count": 10,
   "metadata": {},
   "outputs": [
    {
     "ename": "SyntaxError",
     "evalue": "invalid syntax (<ipython-input-10-39a68ec668a8>, line 1)",
     "output_type": "error",
     "traceback": [
      "\u001b[1;36m  File \u001b[1;32m\"<ipython-input-10-39a68ec668a8>\"\u001b[1;36m, line \u001b[1;32m1\u001b[0m\n\u001b[1;33m    del todolist[]\u001b[0m\n\u001b[1;37m                 ^\u001b[0m\n\u001b[1;31mSyntaxError\u001b[0m\u001b[1;31m:\u001b[0m invalid syntax\n"
     ]
    }
   ],
   "source": [
    "del todolist[]\n",
    "print(todolist)"
   ]
  },
  {
   "cell_type": "code",
   "execution_count": 9,
   "metadata": {},
   "outputs": [
    {
     "name": "stdout",
     "output_type": "stream",
     "text": [
      "['Sarfraz']\n"
     ]
    }
   ],
   "source": [
    "todolist.remove(\"Aslam\")\n",
    "print(todolist)"
   ]
  },
  {
   "cell_type": "code",
   "execution_count": 6,
   "metadata": {},
   "outputs": [
    {
     "name": "stdout",
     "output_type": "stream",
     "text": [
      "Press 1 for add items in the list\n",
      "Press 2 for remove items in the list\n",
      "Press 3 for insert items in the list\n",
      "Press 4 for delete items in the list\n",
      "Press 5 for editing items in the list\n",
      "Press 6 for exit application\n",
      "\n",
      "                          ===========\n",
      "Enter One of your order: 1\n",
      "Enter list item to Add :sarfraz\n",
      "                          ===========\n",
      "['sarfraz']\n",
      "                          ===========\n",
      "Enter One of your order: 1\n",
      "Enter list item to Add :sarwar\n",
      "                          ===========\n",
      "['sarfraz', 'sarwar']\n",
      "                          ===========\n",
      "Enter One of your order: 2\n",
      "Enter removing item to removesarwar\n",
      "                          ===========\n",
      "['sarfraz']\n",
      "                          ===========\n",
      "Enter One of your order: 1\n",
      "Enter list item to Add :sarwar\n",
      "                          ===========\n",
      "['sarfraz', 'sarwar']\n",
      "                          ===========\n",
      "Enter One of your order: 5\n",
      "Enter editing position :2\n",
      "Enter the over riding item :sarwar mustafa\n",
      "                          ===========\n",
      "['sarfraz', 'sarwar mustafa']\n",
      "                          ===========\n",
      "Enter One of your order: 6\n",
      "wrong entry\n"
     ]
    }
   ],
   "source": [
    "space = \" \" * 25\n",
    "todolist= []\n",
    "print(\"Press 1 for add items in the list\\n\" + \"Press 2 for remove items in the list\\n\" + \"Press 3 for insert items in the list\\n\" + \"Press 4 for delete items in the list\\n\" + \"Press 5 for editing items in the list\\n\" + \"Press 6 for exit application\\n\")\n",
    "print(\"%s ===========\" % space)\n",
    "add = 0\n",
    "while add !=\"6\":\n",
    "    add = input(\"Enter One of your order: \")\n",
    "    if add == \"1\":\n",
    "        appenditem = input(\"Enter list item to Add :\")\n",
    "        todolist.append(appenditem)\n",
    "        print(\"%s ===========\" % space)\n",
    "        print(todolist)\n",
    "        print(\"%s ===========\" % space)\n",
    "    elif add ==\"2\":\n",
    "        removeitem = input(\"Enter removing item to remove\")\n",
    "        todolist.remove(removeitem)\n",
    "        print(\"%s ===========\" % space)\n",
    "        print(todolist)\n",
    "        print(\"%s ===========\" % space)\n",
    "    elif add ==\"3\":\n",
    "        insertitem = input(\"Enter inserting item:\")\n",
    "        insertposition = int(input(\"Enter the inserting position do you want :\"))\n",
    "        todolist.insert(insertposition - 1,insertitem)\n",
    "        print(\"%s ===========\" % space)\n",
    "        print(todolist)\n",
    "        print(\"%s ===========\" % space)\n",
    "    elif add ==\"4\":\n",
    "        delposi = int(input(\"Enter deleting position :\"))\n",
    "        del todolist[delposi-1]\n",
    "        print(\"%s ===========\" % space)\n",
    "        print(todolist)\n",
    "        print(\"%s ===========\" % space)\n",
    "    elif add ==\"5\":\n",
    "        editposi = int(input(\"Enter editing position :\"))\n",
    "        editword = input(\"Enter the over riding item :\")\n",
    "        todolist[editposi-1] = editword\n",
    "        print(\"%s ===========\" % space)\n",
    "        print(todolist)\n",
    "        print(\"%s ===========\" % space)\n",
    "    else:\n",
    "        print(\"wrong entry\")"
   ]
  },
  {
   "cell_type": "code",
   "execution_count": null,
   "metadata": {},
   "outputs": [],
   "source": []
  }
 ],
 "metadata": {
  "kernelspec": {
   "display_name": "Python 3",
   "language": "python",
   "name": "python3"
  },
  "language_info": {
   "codemirror_mode": {
    "name": "ipython",
    "version": 3
   },
   "file_extension": ".py",
   "mimetype": "text/x-python",
   "name": "python",
   "nbconvert_exporter": "python",
   "pygments_lexer": "ipython3",
   "version": "3.7.4"
  }
 },
 "nbformat": 4,
 "nbformat_minor": 2
}
