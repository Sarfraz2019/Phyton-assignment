{
 "cells": [
  {
   "cell_type": "code",
   "execution_count": 19,
   "metadata": {},
   "outputs": [
    {
     "name": "stdout",
     "output_type": "stream",
     "text": [
      "first_name: Sumair\n",
      "last_name: Ahmed\n",
      "age: 20\n",
      "city: karachi\n",
      "Qualification: Matric\n",
      "first_name: Sumair\n",
      "last_name: Ahmed\n",
      "age: 20\n",
      "city: karachi\n",
      "Qualification: B.com\n",
      "first_name: Sumair\n",
      "last_name: Ahmed\n",
      "age: 20\n",
      "city: karachi\n"
     ]
    }
   ],
   "source": [
    "#Question 1\n",
    "info_person = {\n",
    "    \"first_name\" : \"Sumair\" ,\n",
    "    \"last_name\" : \"Ahmed\",\n",
    "    \"age\" : \"20\",\n",
    "    \"city\" : \"karachi\",\n",
    "}\n",
    "def about():\n",
    "    for info_keys,info_values in info_person.items():\n",
    "        print(info_keys +\": \" +info_values)\n",
    "\n",
    "info_person[\"Qualification\"] = \"Matric\"\n",
    "about()\n",
    "info_person.update({\"Qualification\":\"B.com\"})\n",
    "about()\n",
    "del info_person[\"Qualification\"]\n",
    "about()"
   ]
  },
  {
   "cell_type": "code",
   "execution_count": 56,
   "metadata": {},
   "outputs": [
    {
     "name": "stdout",
     "output_type": "stream",
     "text": [
      "city:  karachi\n",
      "Country : Karachi city belongs to pakistan.\n",
      "\n",
      "population : The current population of Karachi in 2019 is 15,741,000, a 2.21% increase from 2018.\n",
      "\n",
      "fact : It is a City of light.\n",
      "\n",
      "\n",
      "\n",
      "\n",
      "\n",
      "\n",
      "city:  Dhaka\n",
      "Country : Dhaka city belongs to Bangladesh.\n",
      "\n",
      "population : Hence, the population of Dhaka in 2019 is expected to be 19.84 Million + 0.788 Million = 20.628 Million. Therefore, the population of Dhaka in 2019 as per estimates is 20.628 Million.\n",
      "\n",
      "fact : Dhaka, also spelled Dacca, city and capital of Bangladesh. It is located just north of the Buriganga River, a channel of the Dhaleswari River, in the south-central part of the country. Dhaka is Bangladesh's most populous city and is one of the largest metropolises in South Asia. Pop.\n",
      "\n",
      "\n",
      "\n",
      "\n",
      "\n",
      "\n",
      "city:  Mecca\n",
      "Country : Mecca belongs to Saudia arabia.\n",
      "\n",
      "population : Mecca Population Growth Mecca's 2019 population is now estimated at 2,004,888. In 1950, the population of Mecca was 148,164. Mecca has grown by 209,039 since 2015, which represents a 2.79% annual change.Nov 5, 2019.\n",
      "\n",
      "fact : It is the only city in which muslims comes to pray in their God house from all over the world at a time during hajj. And says the world that muslims are united in one sound of pray.\n",
      "\n",
      "\n",
      "\n",
      "\n",
      "\n",
      "\n"
     ]
    }
   ],
   "source": [
    "#Question 2\n",
    "\n",
    "cities = {\n",
    "    \"karachi\": {\n",
    "        \"country\" : \"Karachi city belongs to pakistan.\\n\",\n",
    "        \"population\" :  \"The current population of Karachi in 2019 is 15,741,000, a 2.21% increase from 2018.\\n\",\n",
    "        \"fact\" : \"It is a City of light.\\n\\n\",\n",
    "        \n",
    "    },\n",
    "    \"Dhaka\": {\n",
    "        \"country\" : \"Dhaka city belongs to Bangladesh.\\n\",\n",
    "        \"population\" : \"Hence, the population of Dhaka in 2019 is expected to be 19.84 Million + 0.788 Million = 20.628 Million. Therefore, the population of Dhaka in 2019 as per estimates is 20.628 Million.\\n\",\n",
    "        \"fact\" : \"Dhaka, also spelled Dacca, city and capital of Bangladesh. It is located just north of the Buriganga River, a channel of the Dhaleswari River, in the south-central part of the country. Dhaka is Bangladesh's most populous city and is one of the largest metropolises in South Asia. Pop.\\n\\n\",\n",
    "        \n",
    "    },\n",
    "    \"Mecca\": {\n",
    "        \"country\" : \"Mecca belongs to Saudia arabia.\\n\",\n",
    "        \"population\" : \"Mecca Population Growth Mecca's 2019 population is now estimated at 2,004,888. In 1950, the population of Mecca was 148,164. Mecca has grown by 209,039 since 2015, which represents a 2.79% annual change.Nov 5, 2019.\\n\",\n",
    "        \"fact\" : \"It is the only city in which muslims comes to pray in their God house from all over the world at a time during hajj. And says the world that muslims are united in one sound of pray.\\n\\n\",\n",
    "        \n",
    "    }, \n",
    "}\n",
    "for info_keys in cities.keys():\n",
    "    print(\"city: \",info_keys )\n",
    "    print(\"Country :\",cities[info_keys][\"country\"])\n",
    "    print(\"population :\",cities[info_keys][\"population\"])\n",
    "    print(\"fact :\",cities[info_keys][\"fact\"])\n",
    "    print(\"\\n\\n\\n\")\n",
    "\n",
    "    \n",
    "            \n",
    "\n",
    "\n"
   ]
  },
  {
   "cell_type": "code",
   "execution_count": 67,
   "metadata": {},
   "outputs": [
    {
     "name": "stdout",
     "output_type": "stream",
     "text": [
      "Welcome in Movie theater\n",
      "Enter the no of person : 3\n",
      "Enter your Age: 15\n",
      "The ticket is $15.\n",
      "Enter your Age: 12\n",
      "The ticket is $10.\n",
      "Enter your Age: 14\n",
      "The ticket is $15.\n",
      "Total Amount = 40 $\n"
     ]
    }
   ],
   "source": [
    "#question 3\n",
    "\n",
    "print(\"Welcome in Movie theater\")\n",
    "person = int(input(\"Enter the no of person : \"))\n",
    "total_cost = 0\n",
    "for i in range(1,person+1):\n",
    "    age = int(input(\"Enter your Age: \"))\n",
    "    if age <= 3 :\n",
    "        print(\"The ticket is free. Enjoy :-)\")\n",
    "        total_cost += 0\n",
    "    elif age > 3 and age <= 12:\n",
    "        print(\"The ticket is $10.\")\n",
    "        total_cost += 10\n",
    "    elif age > 12:\n",
    "        print(\"The ticket is $15.\")\n",
    "        total_cost += 15\n",
    "    else:\n",
    "        print(\"Wrong Entry. Try Again.\")\n",
    "print(\"Total Amount =\",total_cost,\"$\")\n",
    "\n",
    "\n"
   ]
  },
  {
   "cell_type": "code",
   "execution_count": 2,
   "metadata": {},
   "outputs": [
    {
     "name": "stdout",
     "output_type": "stream",
     "text": [
      "Please Enter the book title : Mathematics\n",
      "One of my favorite book is Mathematics\n"
     ]
    }
   ],
   "source": [
    "#Question 4\n",
    "\n",
    "def favorite_book(book_title):\n",
    "    print(\"One of my favorite book is\",book_title)\n",
    "\n",
    "title = input(\"Please Enter the book title : \")\n",
    "favorite_book(title)\n",
    "    "
   ]
  },
  {
   "cell_type": "code",
   "execution_count": 4,
   "metadata": {},
   "outputs": [
    {
     "name": "stdout",
     "output_type": "stream",
     "text": [
      "Guess the number between 1 to 30 : 5\n",
      "Congratulation you Win!!\n"
     ]
    }
   ],
   "source": [
    "#Question 5\n",
    "import random\n",
    "\n",
    "random_number = random.randrange(1,30)\n",
    "\n",
    "flag = False\n",
    "\n",
    "for i in range(1,4):\n",
    "    guess = int(input(\"Guess the number between 1 to 30 : \"))\n",
    "    if guess == random_number:\n",
    "        flag = True \n",
    "        break\n",
    "    elif guess < random_number:\n",
    "        print(\"Your guess is too low\")\n",
    "    else:\n",
    "        print(\"Your guess is too high\")\n",
    "        \n",
    "if flag:\n",
    "    print(\"Congratulation you Win!!\")\n",
    "else:\n",
    "    print(\"You Loose\")\n",
    "    print(\"Correct Number is \", random_number)\n"
   ]
  },
  {
   "cell_type": "code",
   "execution_count": null,
   "metadata": {},
   "outputs": [],
   "source": []
  },
  {
   "cell_type": "code",
   "execution_count": null,
   "metadata": {},
   "outputs": [],
   "source": []
  }
 ],
 "metadata": {
  "kernelspec": {
   "display_name": "Python 3",
   "language": "python",
   "name": "python3"
  },
  "language_info": {
   "codemirror_mode": {
    "name": "ipython",
    "version": 3
   },
   "file_extension": ".py",
   "mimetype": "text/x-python",
   "name": "python",
   "nbconvert_exporter": "python",
   "pygments_lexer": "ipython3",
   "version": "3.7.4"
  }
 },
 "nbformat": 4,
 "nbformat_minor": 2
}
