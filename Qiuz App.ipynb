{
 "cells": [
  {
   "cell_type": "code",
   "execution_count": 1,
   "metadata": {},
   "outputs": [
    {
     "name": "stdout",
     "output_type": "stream",
     "text": [
      "\n",
      "1: what is your country name?\n",
      " please write your correct answer in input field\n",
      "pakistan\n",
      "USA\n",
      "UAE\n",
      "Africa\n",
      "\n",
      "pakistan\n",
      "Corrrect!\n",
      "\n",
      "2: what is your city name?\n",
      " please write your correct answer in input field\n",
      "Hyderabad\n",
      "Islamabad\n",
      "Karachi\n",
      "Tharparkar\n",
      "\n",
      "karachi\n",
      "Corrrect!\n",
      "\n",
      "3: what is your capital city?\n",
      " please write your correct answer in input field\n",
      "Hyderabad\n",
      "Islamabad\n",
      "Karachi\n",
      "Tharparkar\n",
      "\n",
      "Islamabad\n",
      "Corrrect!\n",
      "Your score is :3\n"
     ]
    }
   ],
   "source": [
    "#Quize application using list in dic\n",
    "question = [\n",
    "    {\n",
    "        \"S_no\" : 1,\n",
    "        \"question\": \"what is your country name?\",\n",
    "        \"options\" : [\"pakistan\",\"USA\",\"UAE\",\"Africa\"],\n",
    "        \"answer\"  : \"pakistan\"\n",
    "    },\n",
    "    {\n",
    "        \"S_no\" : 2,\n",
    "        \"question\": \"what is your city name?\",\n",
    "        \"options\" : [\"Hyderabad\",\"Islamabad\",\"Karachi\",\"Tharparkar\"],\n",
    "        \"answer\"  : \"karachi\"\n",
    "\n",
    "    },\n",
    "    {\n",
    "        \"S_no\" : 3,\n",
    "        \"question\": \"what is your capital city?\",\n",
    "        \"options\" : [\"Hyderabad\",\"Islamabad\",\"Karachi\",\"Tharparkar\"],\n",
    "        \"answer\"  : \"Islamabad\"\n",
    "    }\n",
    "]\n",
    "\n",
    "score = 0\n",
    "for ques in question:\n",
    "    data = \"\\n\" + str(ques[\"S_no\"]) + \": \" + ques[\"question\"] + \"\\n please write your correct answer in input field\\n\" + ques[\"options\"][0] + \"\\n\" + ques[\"options\"][1] + \"\\n\" + ques[\"options\"][2] + \"\\n\" + ques[\"options\"][3] + \"\\n\\n\"                                   \n",
    "    answer = input(data)\n",
    "    if answer == ques[\"answer\"]:\n",
    "        print(\"Corrrect!\")\n",
    "        score +=1\n",
    "    else:\n",
    "        print(\"Incorrect!\")\n",
    "print(\"Your score is :\" +str(score))"
   ]
  },
  {
   "cell_type": "code",
   "execution_count": null,
   "metadata": {},
   "outputs": [],
   "source": []
  }
 ],
 "metadata": {
  "kernelspec": {
   "display_name": "Python 3",
   "language": "python",
   "name": "python3"
  },
  "language_info": {
   "codemirror_mode": {
    "name": "ipython",
    "version": 3
   },
   "file_extension": ".py",
   "mimetype": "text/x-python",
   "name": "python",
   "nbconvert_exporter": "python",
   "pygments_lexer": "ipython3",
   "version": "3.7.4"
  }
 },
 "nbformat": 4,
 "nbformat_minor": 2
}
