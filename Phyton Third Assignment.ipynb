{
 "cells": [
  {
   "cell_type": "code",
   "execution_count": 5,
   "metadata": {},
   "outputs": [
    {
     "name": "stdout",
     "output_type": "stream",
     "text": [
      "Enter '+' for addition\n",
      "Enter '-' for Substraction\n",
      "Enter '*' for Multiplication\n",
      "Enter '/' for Division\n",
      "Enter '**' for Power\n",
      "\n",
      "Enter first value: 15\n",
      "Enter operator = **\n",
      "Enter second value: 2\n",
      "Answer :  225\n"
     ]
    }
   ],
   "source": [
    "#Question 1\n",
    "#calculator\n",
    "print(\"Enter '+' for addition\")\n",
    "print(\"Enter '-' for Substraction\")\n",
    "print(\"Enter '*' for Multiplication\")\n",
    "print(\"Enter '/' for Division\")\n",
    "print(\"Enter '**' for Power\\n\")\n",
    "\n",
    "val1 = input('Enter first value: ')\n",
    "operator = input('Enter operator = ')\n",
    "val2 = input('Enter second value: ')\n",
    "'''val1 == int(val1)\n",
    "   val2 == int(val2)\n",
    "   is trha se bhi int mai convert ke skte han\n",
    "   '''\n",
    "if operator == '+' :\n",
    "    val = int(val1) + int(val2)\n",
    "    print('Answer : ',val)\n",
    "elif operator == '-' :\n",
    "    val = int(val1) - int(val2)\n",
    "    print('Answer : ',val)\n",
    "elif operator == '*' :\n",
    "    val = int(val1) * int(val2)\n",
    "    print('Answer : ',val)\n",
    "elif operator == '/' :\n",
    "    val = int(val1) // int(val2)\n",
    "    print('Answer : ',val)\n",
    "elif operator == '**' :\n",
    "    val = int(val1) ** int(val2)\n",
    "    print('Answer : ',val)\n",
    "else :\n",
    "    print('Enter Correct Operator!')"
   ]
  },
  {
   "cell_type": "code",
   "execution_count": 13,
   "metadata": {},
   "outputs": [
    {
     "name": "stdout",
     "output_type": "stream",
     "text": [
      "numeric value is : 1\n",
      "string value is : Orange\n",
      "numeric value is : 2\n",
      "numeric value is : 54\n",
      "string value is : Apple\n",
      "numeric value is : 3\n",
      "numeric value is : 4\n"
     ]
    }
   ],
   "source": [
    "#Question 2\n",
    "#find the numeric value from the given list\n",
    "mylist = [1,'Orange',2,54,'Apple',3,4]\n",
    "\n",
    "for a in mylist:\n",
    "    if isinstance(a,int):\n",
    "        print(\"numeric value is :\",a)\n",
    "    else:#optional\n",
    "        print(\"string value is :\",a)"
   ]
  },
  {
   "cell_type": "code",
   "execution_count": 22,
   "metadata": {},
   "outputs": [
    {
     "name": "stdout",
     "output_type": "stream",
     "text": [
      "4803 Wellesley St.\n",
      "{'first name': 'David', 'last name': 'Elliott', 'address': '4803 Wellesley St.', 'street no': '05'}\n"
     ]
    }
   ],
   "source": [
    "#question 3\n",
    "#Dictionary\n",
    "customer = {\n",
    "    \"first name\": \"David\", \n",
    "    \"last name\": \"Elliott\", \n",
    "    \"address\": \"4803 Wellesley St.\"\n",
    "} \n",
    "customer[\"street no\"] = '05'\n",
    "print(customer)"
   ]
  },
  {
   "cell_type": "code",
   "execution_count": 18,
   "metadata": {},
   "outputs": [
    {
     "name": "stdout",
     "output_type": "stream",
     "text": [
      "Sum of all numeric items in a dictionary is 30\n"
     ]
    }
   ],
   "source": [
    "#Question 4\n",
    "dito = {\n",
    "    'a': 12,\n",
    "    'b': 15 ,\n",
    "    'c' : 'fraz' , \n",
    "    'd' : 3\n",
    "       }\n",
    "sum =0\n",
    "for i in dito.values():\n",
    "    if type(i) ==int:\n",
    "        sum +=i\n",
    "print(\"Sum of all numeric items in a dictionary is\",sum)"
   ]
  },
  {
   "cell_type": "code",
   "execution_count": 19,
   "metadata": {},
   "outputs": [
    {
     "name": "stdout",
     "output_type": "stream",
     "text": [
      "Enter key :4\n",
      "Enter value :fraz\n",
      "{'4': 'fraz'}\n"
     ]
    }
   ],
   "source": [
    "#Question 3 Second method\n",
    "dic = {}\n",
    "keyinput = input(\"Enter key :\")\n",
    "valueinput = input(\"Enter value :\")\n",
    "dic.update({keyinput:valueinput})\n",
    "\n",
    "print(dic)"
   ]
  },
  {
   "cell_type": "code",
   "execution_count": 27,
   "metadata": {},
   "outputs": [
    {
     "name": "stdout",
     "output_type": "stream",
     "text": [
      "28 is dublicate\n",
      "star is dublicate\n",
      "5 is dublicate\n"
     ]
    }
   ],
   "source": [
    "#Question 5\n",
    "list1 =[28,17,'karachi',5,'star',28,'star',5]\n",
    "dup=[]\n",
    "for i in list1:\n",
    "    for j in dup:\n",
    "        if (i == j):\n",
    "            print(i,'is dublicate')\n",
    "    dup.append(i)\n",
    "    "
   ]
  },
  {
   "cell_type": "code",
   "execution_count": 33,
   "metadata": {},
   "outputs": [
    {
     "name": "stdout",
     "output_type": "stream",
     "text": [
      "Enter key Name check if exist or notj\n",
      "Given key does not Exist\n"
     ]
    }
   ],
   "source": [
    "#Question 6\n",
    "dito = {\n",
    "    'a': 12,\n",
    "    'b': 15 ,\n",
    "    'c' : 'fraz' , \n",
    "    'd' : 3\n",
    "       }\n",
    "check_key =input(\"Enter key Name check if exist or not\")\n",
    "flag = False\n",
    "for i in dito.keys():\n",
    "    if i==check_key:\n",
    "        flag = True\n",
    "        break\n",
    "if flag:\n",
    "    print(\"Given key Exist\")\n",
    "else:\n",
    "    print(\"Given key does not Exist\")"
   ]
  },
  {
   "cell_type": "code",
   "execution_count": null,
   "metadata": {},
   "outputs": [],
   "source": []
  }
 ],
 "metadata": {
  "kernelspec": {
   "display_name": "Python 3",
   "language": "python",
   "name": "python3"
  },
  "language_info": {
   "codemirror_mode": {
    "name": "ipython",
    "version": 3
   },
   "file_extension": ".py",
   "mimetype": "text/x-python",
   "name": "python",
   "nbconvert_exporter": "python",
   "pygments_lexer": "ipython3",
   "version": "3.7.4"
  }
 },
 "nbformat": 4,
 "nbformat_minor": 2
}
