{
 "cells": [
  {
   "cell_type": "code",
   "execution_count": 4,
   "metadata": {},
   "outputs": [
    {
     "name": "stdout",
     "output_type": "stream",
     "text": [
      "Please Enter OOP Marks :    47\n",
      "Please Enter Db Marks  :    78\n",
      "Please Enter SE Marks   :    87\n",
      "Please Enter DS Marks   :    45\n",
      "Please Enter OS Marks  :    54\n",
      "Your Grade : B\n",
      "Your Percentage is 62.2\n"
     ]
    }
   ],
   "source": [
    "OOP =int(input(\"Please Enter OOP Marks :    \"))\n",
    "DB = int(input(\"Please Enter Db Marks  :    \"))\n",
    "SE =int(input(\"Please Enter SE Marks   :    \"))\n",
    "DS =int(input(\"Please Enter DS Marks   :    \"))\n",
    "OS = int(input(\"Please Enter OS Marks  :    \"))\n",
    "\n",
    "\n",
    "\n",
    "total = OOP + DB + SE + DS + OS\n",
    "\n",
    "per = (total / 500) * 100\n",
    "\n",
    "if per <= 100 and per >= 80 :\n",
    "    print(\"Your Grade : A+\")\n",
    "    print(\"Your Percentage is \" + str(per))\n",
    "elif per < 80 and per >=70 :\n",
    "    print(\"Your Grade : A\")\n",
    "    print(\"Your Percentage is \" + str(per))\n",
    "elif per < 70 and per >=60 :\n",
    "    print(\"Your Grade : B\")\n",
    "    print(\"Your Percentage is \" + str(per))\n",
    "elif per < 60 and per >=50 :\n",
    "    print(\"Your Grade : C\")\n",
    "    print(\"Your Percentage is \" + str(per))\n",
    "elif per < 50 and per >=40 :\n",
    "    print(\"Your Grade : D\")\n",
    "    print(\"Your Percentage is \" + str(per))\n",
    "elif per < 40 and per >=33 :\n",
    "    print(\"Your Grade : E\")\n",
    "    print(\"Your Percentage is \" + str(per))\n",
    "elif per < 33 and per >=0 :\n",
    "    print(\"Sorry ! You got Fail!\")\n",
    "    print(\"Your Percentage is \" + str(per))\n",
    "\n"
   ]
  },
  {
   "cell_type": "code",
   "execution_count": 6,
   "metadata": {},
   "outputs": [
    {
     "name": "stdout",
     "output_type": "stream",
     "text": [
      "Enter Any Number4\n",
      "The number is EVEN\n"
     ]
    }
   ],
   "source": [
    "a = int(input(\"Enter Any Number\"))\n",
    "\n",
    "if a % 2 == 0 :\n",
    "    print(\"The number is EVEN\")\n",
    "else :\n",
    "    print(\"The number is ODD\")"
   ]
  },
  {
   "cell_type": "code",
   "execution_count": 14,
   "metadata": {},
   "outputs": [
    {
     "name": "stdout",
     "output_type": "stream",
     "text": [
      "The length of list is  5\n"
     ]
    }
   ],
   "source": [
    "arr = [1,3,5,7,9]\n",
    "print(\"The length of list is \",len(arr))"
   ]
  },
  {
   "cell_type": "code",
   "execution_count": 19,
   "metadata": {},
   "outputs": [
    {
     "name": "stdout",
     "output_type": "stream",
     "text": [
      "Largest Number of list is  444\n"
     ]
    }
   ],
   "source": [
    "arr =[1,3,444,74,9,25]\n",
    "print(\"Largest Number of list is \",max(arr))"
   ]
  },
  {
   "cell_type": "code",
   "execution_count": 21,
   "metadata": {},
   "outputs": [
    {
     "name": "stdout",
     "output_type": "stream",
     "text": [
      "Sum of all numeric item of list is  209\n"
     ]
    }
   ],
   "source": [
    "arr = [0,9,55,45,100]\n",
    "print(\"Sum of all numeric item of list is \",sum(arr))"
   ]
  },
  {
   "cell_type": "code",
   "execution_count": 55,
   "metadata": {},
   "outputs": [
    {
     "name": "stdout",
     "output_type": "stream",
     "text": [
      "1\n",
      "1\n",
      "2\n",
      "3\n"
     ]
    }
   ],
   "source": [
    "#write a program thats print out of all elements of  the list that are less than 5 \n",
    "a = [1,1,2,3,5,8,13,21,34,55,89]\n",
    "for i in a:\n",
    "    if i < 5:\n",
    "        print(i)"
   ]
  },
  {
   "cell_type": "code",
   "execution_count": null,
   "metadata": {},
   "outputs": [],
   "source": []
  }
 ],
 "metadata": {
  "kernelspec": {
   "display_name": "Python 3",
   "language": "python",
   "name": "python3"
  },
  "language_info": {
   "codemirror_mode": {
    "name": "ipython",
    "version": 3
   },
   "file_extension": ".py",
   "mimetype": "text/x-python",
   "name": "python",
   "nbconvert_exporter": "python",
   "pygments_lexer": "ipython3",
   "version": "3.7.4"
  }
 },
 "nbformat": 4,
 "nbformat_minor": 2
}
